{
  "nbformat": 4,
  "nbformat_minor": 0,
  "metadata": {
    "colab": {
      "name": "mnist.ipynb",
      "provenance": []
    },
    "kernelspec": {
      "name": "python3",
      "display_name": "Python 3"
    },
    "language_info": {
      "name": "python"
    }
  },
  "cells": [
    {
      "cell_type": "code",
      "source": [
        "from tensorflow.keras.datasets import mnist"
      ],
      "metadata": {
        "id": "Ksiu5RLM6PP9"
      },
      "execution_count": 10,
      "outputs": []
    },
    {
      "cell_type": "code",
      "source": [
        "(X_train,y_train),(X_test,y_test)=mnist.load_data()"
      ],
      "metadata": {
        "colab": {
          "base_uri": "https://localhost:8080/"
        },
        "id": "MFWUYldwCXM0",
        "outputId": "420190dc-bc51-46bf-e45f-f66bf6b18edd"
      },
      "execution_count": 11,
      "outputs": [
        {
          "output_type": "stream",
          "name": "stdout",
          "text": [
            "Downloading data from https://storage.googleapis.com/tensorflow/tf-keras-datasets/mnist.npz\n",
            "11493376/11490434 [==============================] - 0s 0us/step\n",
            "11501568/11490434 [==============================] - 0s 0us/step\n"
          ]
        }
      ]
    },
    {
      "cell_type": "code",
      "source": [
        "X_train.shape"
      ],
      "metadata": {
        "colab": {
          "base_uri": "https://localhost:8080/"
        },
        "id": "-hlUjWYiCgJE",
        "outputId": "51951145-c255-4c62-e674-10a1843c9437"
      },
      "execution_count": 12,
      "outputs": [
        {
          "output_type": "execute_result",
          "data": {
            "text/plain": [
              "(60000, 28, 28)"
            ]
          },
          "metadata": {},
          "execution_count": 12
        }
      ]
    },
    {
      "cell_type": "code",
      "source": [
        "firt_value=X_train[0]"
      ],
      "metadata": {
        "id": "n-wplJthCi3E"
      },
      "execution_count": 32,
      "outputs": []
    },
    {
      "cell_type": "code",
      "source": [
        "from tensorflow.keras.preprocessing.image import load_img\n",
        "import numpy as np\n",
        "import matplotlib.pyplot as plt"
      ],
      "metadata": {
        "id": "4SunL989Csha"
      },
      "execution_count": 22,
      "outputs": []
    },
    {
      "cell_type": "code",
      "source": [
        "plt.imshow(firt_value,cmap='gray')"
      ],
      "metadata": {
        "colab": {
          "base_uri": "https://localhost:8080/",
          "height": 283
        },
        "id": "ALkASwh6DR2E",
        "outputId": "a091bcc8-03dc-4fb9-850f-8a90ee9cff4e"
      },
      "execution_count": 33,
      "outputs": [
        {
          "output_type": "execute_result",
          "data": {
            "text/plain": [
              "<matplotlib.image.AxesImage at 0x7fde7f702350>"
            ]
          },
          "metadata": {},
          "execution_count": 33
        },
        {
          "output_type": "display_data",
          "data": {
            "text/plain": [
              "<Figure size 432x288 with 1 Axes>"
            ],
            "image/png": "[encoded data removed]"
          },
          "metadata": {
            "needs_background": "light"
          }
        }
      ]
    },
    {
      "cell_type": "code",
      "source": [
        "y_train # we need to encode "
      ],
      "metadata": {
        "colab": {
          "base_uri": "https://localhost:8080/"
        },
        "id": "F4r47XVYDVtD",
        "outputId": "e3ec2d3d-7cc0-42d9-831d-3cb475d3f92d"
      },
      "execution_count": 25,
      "outputs": [
        {
          "output_type": "execute_result",
          "data": {
            "text/plain": [
              "array([5, 0, 4, ..., 5, 6, 8], dtype=uint8)"
            ]
          },
          "metadata": {},
          "execution_count": 25
        }
      ]
    },
    {
      "cell_type": "code",
      "source": [
        "from tensorflow.keras.utils import to_categorical"
      ],
      "metadata": {
        "id": "oFxthnDeFnC7"
      },
      "execution_count": 27,
      "outputs": []
    },
    {
      "cell_type": "code",
      "source": [
        "y_train.shape # we see that we have continuous values"
      ],
      "metadata": {
        "colab": {
          "base_uri": "https://localhost:8080/"
        },
        "id": "efSjydo8F-Iz",
        "outputId": "9365f6d9-d2a3-49f3-c3ca-06d3549cfccb"
      },
      "execution_count": 28,
      "outputs": [
        {
          "output_type": "execute_result",
          "data": {
            "text/plain": [
              "(60000,)"
            ]
          },
          "metadata": {},
          "execution_count": 28
        }
      ]
    },
    {
      "cell_type": "code",
      "source": [
        "y_train_cat=to_categorical(y_train)"
      ],
      "metadata": {
        "id": "Anft-zMvGEoa"
      },
      "execution_count": 29,
      "outputs": []
    },
    {
      "cell_type": "code",
      "source": [
        "y_train_cat[0] # we see our firt value is 5"
      ],
      "metadata": {
        "colab": {
          "base_uri": "https://localhost:8080/"
        },
        "id": "XenT6EfwGWxy",
        "outputId": "1f73fbf2-569a-4c70-fb2f-92f370951d16"
      },
      "execution_count": 34,
      "outputs": [
        {
          "output_type": "execute_result",
          "data": {
            "text/plain": [
              "array([0., 0., 0., 0., 0., 1., 0., 0., 0., 0.], dtype=float32)"
            ]
          },
          "metadata": {},
          "execution_count": 34
        }
      ]
    },
    {
      "cell_type": "code",
      "source": [
        "y_test_cat=to_categorical(y_test,num_classes=10)# make sure we have ten classes"
      ],
      "metadata": {
        "id": "GB2hwq4bGaaq"
      },
      "execution_count": 35,
      "outputs": []
    },
    {
      "cell_type": "code",
      "source": [
        "X_train.max(),X_train.min()# we have to normalise the data"
      ],
      "metadata": {
        "colab": {
          "base_uri": "https://localhost:8080/"
        },
        "id": "Xwjmi3HLHedb",
        "outputId": "e115b22a-3c11-47d3-bcd6-2d4ef69738ba"
      },
      "execution_count": 37,
      "outputs": [
        {
          "output_type": "execute_result",
          "data": {
            "text/plain": [
              "(255, 0)"
            ]
          },
          "metadata": {},
          "execution_count": 37
        }
      ]
    },
    {
      "cell_type": "code",
      "source": [
        "X_train_scale=X_train/255\n",
        "X_test_scale=X_test/255"
      ],
      "metadata": {
        "id": "0HK53cGwHvVL"
      },
      "execution_count": 52,
      "outputs": []
    },
    {
      "cell_type": "code",
      "source": [
        "X_train_scale=X_train_scale.reshape(60000,28,28,1)\n",
        "X_test_scale=X_test_scale.reshape(X_test.shape[0],28,28,1)"
      ],
      "metadata": {
        "id": "LbtF0Rr3IUb6"
      },
      "execution_count": 57,
      "outputs": []
    },
    {
      "cell_type": "code",
      "source": [
        "X_train_scale.shape # batch size,width,height,color_channel"
      ],
      "metadata": {
        "colab": {
          "base_uri": "https://localhost:8080/"
        },
        "id": "8eMuW6YXIYOr",
        "outputId": "0483ec04-4358-4dff-dd4c-a6053eef58f2"
      },
      "execution_count": 56,
      "outputs": [
        {
          "output_type": "execute_result",
          "data": {
            "text/plain": [
              "(60000, 28, 28, 1)"
            ]
          },
          "metadata": {},
          "execution_count": 56
        }
      ]
    },
    {
      "cell_type": "code",
      "source": [
        "X_test_scale.shape"
      ],
      "metadata": {
        "colab": {
          "base_uri": "https://localhost:8080/"
        },
        "id": "e4_0-eh8Iplh",
        "outputId": "f4983300-044c-4667-d017-f805272ea7d3"
      },
      "execution_count": 59,
      "outputs": [
        {
          "output_type": "execute_result",
          "data": {
            "text/plain": [
              "(10000, 28, 28, 1)"
            ]
          },
          "metadata": {},
          "execution_count": 59
        }
      ]
    },
    {
      "cell_type": "code",
      "source": [
        "from tensorflow.keras.models import Sequential\n",
        "from tensorflow.keras.layers import Dense,Conv2D,MaxPool2D,Flatten"
      ],
      "metadata": {
        "id": "CPpxkU_fI3kK"
      },
      "execution_count": 60,
      "outputs": []
    },
    {
      "cell_type": "code",
      "source": [
        "model=Sequential()\n",
        "\n",
        "model.add(Conv2D(filters=32,kernel_size=(3,3),input_shape=(28,28,1),activation='relu'))\n",
        "\n",
        "model.add(MaxPool2D(pool_size=(2,2)))\n",
        "\n",
        "model.add(Flatten())\n",
        "\n",
        "model.add(Dense(128,activation='relu'))\n",
        "\n",
        "\n",
        "model.add(Dense(10,activation='softmax')) # multi class \n",
        "\n",
        "model.compile(loss='categorical_crossentropy',optimizer='adam',metrics=['accuracy'])"
      ],
      "metadata": {
        "id": "5q6DMG5sKVha"
      },
      "execution_count": 79,
      "outputs": []
    },
    {
      "cell_type": "code",
      "source": [
        "model.summary()"
      ],
      "metadata": {
        "colab": {
          "base_uri": "https://localhost:8080/"
        },
        "id": "DKN7Dxr9QqzQ",
        "outputId": "117a22ed-575a-4711-8823-44d1eb2b124f"
      },
      "execution_count": 80,
      "outputs": [
        {
          "output_type": "stream",
          "name": "stdout",
          "text": [
            "Model: \"sequential_5\"\n",
            "_________________________________________________________________\n",
            " Layer (type)                Output Shape              Param #   \n",
            "=================================================================\n",
            " conv2d_5 (Conv2D)           (None, 26, 26, 32)        320       \n",
            "                                                                 \n",
            " max_pooling2d_5 (MaxPooling  (None, 13, 13, 32)       0         \n",
            " 2D)                                                             \n",
            "                                                                 \n",
            " flatten_5 (Flatten)         (None, 5408)              0         \n",
            "                                                                 \n",
            " dense_10 (Dense)            (None, 128)               692352    \n",
            "                                                                 \n",
            " dense_11 (Dense)            (None, 10)                1290      \n",
            "                                                                 \n",
            "=================================================================\n",
            "Total params: 693,962\n",
            "Trainable params: 693,962\n",
            "Non-trainable params: 0\n",
            "_________________________________________________________________\n"
          ]
        }
      ]
    },
    {
      "cell_type": "code",
      "source": [
        "from tensorflow.keras.callbacks import EarlyStopping\n",
        "stop=EarlyStopping(monitor='val_loss',patience=2)"
      ],
      "metadata": {
        "id": "Kra2HoPyRP7R"
      },
      "execution_count": 81,
      "outputs": []
    },
    {
      "cell_type": "code",
      "source": [
        "model.fit(X_train_scale,y_train_cat,epochs=10,validation_data=(X_test_scale,y_test_cat),callbacks=[stop])"
      ],
      "metadata": {
        "colab": {
          "base_uri": "https://localhost:8080/"
        },
        "id": "6vtR1tUvRgXn",
        "outputId": "8a64042f-fa8b-40cc-ccac-1065e743dedc"
      },
      "execution_count": 82,
      "outputs": [
        {
          "output_type": "stream",
          "name": "stdout",
          "text": [
            "Epoch 1/10\n",
            "1875/1875 [==============================] - 39s 20ms/step - loss: 0.1415 - accuracy: 0.9581 - val_loss: 0.0643 - val_accuracy: 0.9783\n",
            "Epoch 2/10\n",
            "1875/1875 [==============================] - 39s 21ms/step - loss: 0.0506 - accuracy: 0.9847 - val_loss: 0.0481 - val_accuracy: 0.9851\n",
            "Epoch 3/10\n",
            "1875/1875 [==============================] - 38s 20ms/step - loss: 0.0325 - accuracy: 0.9901 - val_loss: 0.0452 - val_accuracy: 0.9856\n",
            "Epoch 4/10\n",
            "1875/1875 [==============================] - 38s 20ms/step - loss: 0.0202 - accuracy: 0.9937 - val_loss: 0.0445 - val_accuracy: 0.9843\n",
            "Epoch 5/10\n",
            "1875/1875 [==============================] - 40s 21ms/step - loss: 0.0141 - accuracy: 0.9956 - val_loss: 0.0436 - val_accuracy: 0.9867\n",
            "Epoch 6/10\n",
            "1875/1875 [==============================] - 39s 21ms/step - loss: 0.0106 - accuracy: 0.9963 - val_loss: 0.0403 - val_accuracy: 0.9882\n",
            "Epoch 7/10\n",
            "1875/1875 [==============================] - 44s 24ms/step - loss: 0.0071 - accuracy: 0.9977 - val_loss: 0.0496 - val_accuracy: 0.9873\n",
            "Epoch 8/10\n",
            "1875/1875 [==============================] - 39s 21ms/step - loss: 0.0068 - accuracy: 0.9978 - val_loss: 0.0547 - val_accuracy: 0.9861\n"
          ]
        },
        {
          "output_type": "execute_result",
          "data": {
            "text/plain": [
              "<keras.callbacks.History at 0x7fde72a13190>"
            ]
          },
          "metadata": {},
          "execution_count": 82
        }
      ]
    },
    {
      "cell_type": "code",
      "source": [
        "metrics=pd.DataFrame(model.history.history)"
      ],
      "metadata": {
        "id": "mTLfEmtpRyL0"
      },
      "execution_count": 83,
      "outputs": []
    },
    {
      "cell_type": "code",
      "source": [
        "metrics[['loss','val_loss']].plot()"
      ],
      "metadata": {
        "colab": {
          "base_uri": "https://localhost:8080/",
          "height": 283
        },
        "id": "zt2C7WcaR7No",
        "outputId": "ed6d477d-0d0e-4f22-bcf1-a740fcb1f1ea"
      },
      "execution_count": 86,
      "outputs": [
        {
          "output_type": "execute_result",
          "data": {
            "text/plain": [
              "<matplotlib.axes._subplots.AxesSubplot at 0x7fde6c760d10>"
            ]
          },
          "metadata": {},
          "execution_count": 86
        },
        {
          "output_type": "display_data",
          "data": {
            "text/plain": [
              "<Figure size 432x288 with 1 Axes>"
            ],
            "image/png": "[encoded data removed]"
          },
          "metadata": {
            "needs_background": "light"
          }
        }
      ]
    },
    {
      "cell_type": "code",
      "source": [
        "model.evaluate(X_test_scale,y_test_cat)"
      ],
      "metadata": {
        "colab": {
          "base_uri": "https://localhost:8080/"
        },
        "id": "JdWypU5iU4N3",
        "outputId": "6603b6a1-8a81-4f26-e55b-e5e1e94362ab"
      },
      "execution_count": 87,
      "outputs": [
        {
          "output_type": "stream",
          "name": "stdout",
          "text": [
            "313/313 [==============================] - 2s 7ms/step - loss: 0.0547 - accuracy: 0.9861\n"
          ]
        },
        {
          "output_type": "execute_result",
          "data": {
            "text/plain": [
              "[0.05474716052412987, 0.9861000180244446]"
            ]
          },
          "metadata": {},
          "execution_count": 87
        }
      ]
    },
    {
      "cell_type": "code",
      "source": [
        "from sklearn.metrics import classification_report,confusion_matrix,ConfusionMatrixDisplay"
      ],
      "metadata": {
        "id": "dT2BEhG6Vc_O"
      },
      "execution_count": 88,
      "outputs": []
    },
    {
      "cell_type": "code",
      "source": [
        "prediction=model.predict(X_test_scale)"
      ],
      "metadata": {
        "id": "ZUluup8MVl5O"
      },
      "execution_count": 101,
      "outputs": []
    },
    {
      "cell_type": "code",
      "source": [
        "prediction[0]"
      ],
      "metadata": {
        "colab": {
          "base_uri": "https://localhost:8080/"
        },
        "id": "oD_l37BuV2aO",
        "outputId": "f2b4b017-4787-428b-f9e6-42a35c5bc4ec"
      },
      "execution_count": 102,
      "outputs": [
        {
          "output_type": "execute_result",
          "data": {
            "text/plain": [
              "array([4.5906978e-16, 2.7302110e-12, 9.6164167e-11, 3.9795112e-11,\n",
              "       1.1976164e-13, 2.5278294e-14, 1.0161128e-21, 1.0000000e+00,\n",
              "       7.0942961e-12, 2.0972149e-11], dtype=float32)"
            ]
          },
          "metadata": {},
          "execution_count": 102
        }
      ]
    },
    {
      "cell_type": "code",
      "source": [
        "y_pred=np.argmax(prediction,axis=1)\n",
        "y_true=np.argmax(y_test_cat,axis=1)"
      ],
      "metadata": {
        "id": "dBhkomLBWNtP"
      },
      "execution_count": 103,
      "outputs": []
    },
    {
      "cell_type": "code",
      "source": [
        "print(classification_report(y_pred,y_true))"
      ],
      "metadata": {
        "colab": {
          "base_uri": "https://localhost:8080/"
        },
        "id": "eHA1DgvjWtiG",
        "outputId": "17476319-36b4-4cab-ef6b-82b8c5172792"
      },
      "execution_count": 104,
      "outputs": [
        {
          "output_type": "stream",
          "name": "stdout",
          "text": [
            "              precision    recall  f1-score   support\n",
            "\n",
            "           0       0.99      0.99      0.99       978\n",
            "           1       1.00      0.99      0.99      1143\n",
            "           2       0.98      0.99      0.98      1023\n",
            "           3       0.99      0.99      0.99      1009\n",
            "           4       0.99      0.99      0.99       983\n",
            "           5       0.99      0.98      0.98       902\n",
            "           6       0.99      0.98      0.98       972\n",
            "           7       0.99      0.98      0.98      1038\n",
            "           8       0.97      0.99      0.98       962\n",
            "           9       0.97      0.99      0.98       990\n",
            "\n",
            "    accuracy                           0.99     10000\n",
            "   macro avg       0.99      0.99      0.99     10000\n",
            "weighted avg       0.99      0.99      0.99     10000\n",
            "\n"
          ]
        }
      ]
    },
    {
      "cell_type": "code",
      "source": [
        "my_number=X_test_scale[8]"
      ],
      "metadata": {
        "id": "F5lB6i5GYvkX"
      },
      "execution_count": 105,
      "outputs": []
    },
    {
      "cell_type": "code",
      "source": [
        "plt.imshow(my_number.reshape(28,28))"
      ],
      "metadata": {
        "colab": {
          "base_uri": "https://localhost:8080/",
          "height": 283
        },
        "id": "lcSms_nuaV6E",
        "outputId": "be6adbd6-9b0b-4236-a49e-26cf24d6c829"
      },
      "execution_count": 109,
      "outputs": [
        {
          "output_type": "execute_result",
          "data": {
            "text/plain": [
              "<matplotlib.image.AxesImage at 0x7fde6cd54ad0>"
            ]
          },
          "metadata": {},
          "execution_count": 109
        },
        {
          "output_type": "display_data",
          "data": {
            "text/plain": [
              "<Figure size 432x288 with 1 Axes>"
            ],
            "image/png": "[encoded data removed]"
          },
          "metadata": {
            "needs_background": "light"
          }
        }
      ]
    },
    {
      "cell_type": "code",
      "source": [
        "np.argmax(model.predict(my_number.reshape(1,28,28,1)))"
      ],
      "metadata": {
        "colab": {
          "base_uri": "https://localhost:8080/"
        },
        "id": "cokE3s9Vacys",
        "outputId": "3e8091f3-51dd-4107-f9fc-86600b9faeb1"
      },
      "execution_count": 114,
      "outputs": [
        {
          "output_type": "execute_result",
          "data": {
            "text/plain": [
              "5"
            ]
          },
          "metadata": {},
          "execution_count": 114
        }
      ]
    },
    {
      "cell_type": "code",
      "source": [
        ""
      ],
      "metadata": {
        "id": "zGq-CcTabii0"
      },
      "execution_count": null,
      "outputs": []
    }
  ]
}